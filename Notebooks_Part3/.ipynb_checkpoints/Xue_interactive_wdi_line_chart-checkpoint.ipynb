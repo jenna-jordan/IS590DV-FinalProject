{
 "cells": [
  {
   "cell_type": "code",
   "execution_count": 1,
   "metadata": {},
   "outputs": [],
   "source": [
    "import numpy as np\n",
    "import pandas as pd\n",
    "import bqplot\n",
    "import traitlets\n",
    "import ipywidgets\n",
    "from bqplot import pyplot as plt\n",
    "from datetime import datetime"
   ]
  },
  {
   "cell_type": "code",
   "execution_count": 2,
   "metadata": {},
   "outputs": [],
   "source": [
    "wdi = pd.read_csv(\"./x_wdi_timeseries_top25.csv\")\n",
    "country_name = pd.read_csv(\"./x_country_name.csv\")\n",
    "indicator_name = pd.read_csv(\"./x_indicator_name.csv\")\n",
    "cshape_gw = pd.read_csv(\"./x_country_shapes.csv\")[['iso_alpha3', 'gw_code']]\n",
    "participants = pd.read_csv(\"./x_participants_gw.csv\")"
   ]
  },
  {
   "cell_type": "code",
   "execution_count": 3,
   "metadata": {},
   "outputs": [],
   "source": [
    "wdi = pd.merge(wdi, country_name, on='country', how = 'left')\n",
    "wdi = pd.merge(wdi, indicator_name, on='indicator', how = 'left')\n",
    "cshape_gw.columns = ['country', 'gw_id']\n",
    "cshape_gw = cshape_gw.drop_duplicates(['country'] , keep = 'first')\n",
    "wdi = pd.merge(wdi, cshape_gw, on='country', how = 'left')\n",
    "wdi = pd.merge(wdi, participants, how = 'left', left_on=['gw_id', 'year'], right_on = ['gw_id', 'year'])"
   ]
  },
  {
   "cell_type": "code",
   "execution_count": 4,
   "metadata": {},
   "outputs": [],
   "source": [
    "wdi['conflict_id'].fillna(0, inplace=True)\n",
    "wdi['year_1'] = wdi['year'].astype(str)\n",
    "wdi['year_date'] = wdi['year_1'] + \"-06-30\"\n",
    "wdi['year_date'] = pd.to_datetime(wdi['year_date']) "
   ]
  },
  {
   "cell_type": "markdown",
   "metadata": {},
   "source": [
    "Narrative:\n",
    "\n",
    "This visualization is to show how conflicts and wars can affect the development of a country. You can select the indicator and the country, then the indicator of that country will show up in a time series. If a conflict or war is going on that year, the data point that year will show up in a different color."
   ]
  },
  {
   "cell_type": "code",
   "execution_count": 5,
   "metadata": {},
   "outputs": [],
   "source": [
    "country = wdi['country_name'].unique()\n",
    "country_menu = ipywidgets.Dropdown(options = country, description = 'country code')\n",
    "indicator = wdi['indicator_name'].unique()\n",
    "indicator_menu = ipywidgets.Dropdown(options = indicator, description = 'indicator code')"
   ]
  },
  {
   "cell_type": "code",
   "execution_count": 6,
   "metadata": {},
   "outputs": [
    {
     "data": {
      "application/vnd.jupyter.widget-view+json": {
       "model_id": "d458d984e8564d5dae58b2ab3f4bfb38",
       "version_major": 2,
       "version_minor": 0
      },
      "text/plain": [
       "VBox(children=(Dropdown(description='country code', options=('Afghanistan', 'Angola', 'Albania', 'Andorra', 'U…"
      ]
     },
     "metadata": {},
     "output_type": "display_data"
    }
   ],
   "source": [
    "year_min = datetime.strptime('1959-01-01', '%Y-%m-%d')\n",
    "year_max = datetime.strptime('2019-12-31', '%Y-%m-%d')\n",
    "x_sc = bqplot.DateScale(min = year_min, max = year_max )\n",
    "y_sc = bqplot.LinearScale()\n",
    "x_ax = bqplot.Axis(label='year', scale=x_sc)\n",
    "y_ax = bqplot.Axis(label='indicator value', scale=y_sc, orientation='vertical')\n",
    "\n",
    "cur_indicator = 'Population, total'\n",
    "cur_country = 'Australia'\n",
    "\n",
    "stats = wdi.loc[(wdi.country_name == cur_country) & (wdi.indicator_name == cur_indicator)]\n",
    "lines = bqplot.Lines(x=stats['year_date'], y = stats['value'],\n",
    "                 scales={'x': x_sc, 'y': y_sc}, marker = 'square', colors = ['green'], opacities = [0.5], )\n",
    "\n",
    "stats_c = stats.loc[stats.conflict_id > 0]\n",
    "scatters = bqplot.Scatter(x=stats_c['year_date'], y = stats_c['value'],\n",
    "                 scales={'x': x_sc, 'y': y_sc}, marker = 'square', colors = ['orange'], opacities = [0.5], )\n",
    "\n",
    "\n",
    "def country_select(event):\n",
    "    cur_country = event['new']\n",
    "    stats = wdi.loc[(wdi.country_name == cur_country) & (wdi.indicator_name == cur_indicator)]\n",
    "    stats_c = stats.loc[stats.conflict_id > 0]\n",
    "    lines.x = stats['year_date']\n",
    "    lines.y = stats['value']\n",
    "    scatters.x = stats_c['year_date']\n",
    "    scatters.y = stats_c['value']\n",
    "\n",
    "def indicator_select(event):\n",
    "    cur_indicator = event['new']\n",
    "    stats = wdi.loc[(wdi.country_name == cur_country) & (wdi.indicator_name == cur_indicator)]\n",
    "    stats_c = stats.loc[stats.conflict_id > 0]\n",
    "    lines.x = stats['year_date']\n",
    "    lines.y = stats['value']\n",
    "    scatters.x = stats_c['year_date']\n",
    "    scatters.y = stats_c['value']\n",
    "    \n",
    "country_menu.observe(country_select, ['value'])\n",
    "indicator_menu.observe(indicator_select, ['value'])\n",
    "\n",
    "fig = bqplot.Figure(axes=[x_ax, y_ax],  marks=[lines, scatters]) \n",
    "display(ipywidgets.VBox([country_menu, indicator_menu, fig]))\n",
    "fig.layout.width = '1024px'\n"
   ]
  },
  {
   "cell_type": "code",
   "execution_count": null,
   "metadata": {},
   "outputs": [],
   "source": []
  }
 ],
 "metadata": {
  "hide_input": false,
  "kernelspec": {
   "display_name": "Python 3",
   "language": "python",
   "name": "python3"
  },
  "language_info": {
   "codemirror_mode": {
    "name": "ipython",
    "version": 3
   },
   "file_extension": ".py",
   "mimetype": "text/x-python",
   "name": "python",
   "nbconvert_exporter": "python",
   "pygments_lexer": "ipython3",
   "version": "3.7.3"
  },
  "toc": {
   "base_numbering": 1,
   "nav_menu": {},
   "number_sections": true,
   "sideBar": true,
   "skip_h1_title": false,
   "title_cell": "Table of Contents",
   "title_sidebar": "Contents",
   "toc_cell": false,
   "toc_position": {},
   "toc_section_display": true,
   "toc_window_display": false
  },
  "varInspector": {
   "cols": {
    "lenName": 16,
    "lenType": 16,
    "lenVar": 40
   },
   "kernels_config": {
    "python": {
     "delete_cmd_postfix": "",
     "delete_cmd_prefix": "del ",
     "library": "var_list.py",
     "varRefreshCmd": "print(var_dic_list())"
    },
    "r": {
     "delete_cmd_postfix": ") ",
     "delete_cmd_prefix": "rm(",
     "library": "var_list.r",
     "varRefreshCmd": "cat(var_dic_list()) "
    }
   },
   "types_to_exclude": [
    "module",
    "function",
    "builtin_function_or_method",
    "instance",
    "_Feature"
   ],
   "window_display": false
  }
 },
 "nbformat": 4,
 "nbformat_minor": 2
}
