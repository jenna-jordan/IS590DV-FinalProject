{
 "cells": [
  {
   "cell_type": "markdown",
   "metadata": {},
   "source": [
    "# Map Visualizations for CoW & UCDP/PRIO\n",
    "\n",
    "by Jenna Jordan"
   ]
  },
  {
   "cell_type": "code",
   "execution_count": 1,
   "metadata": {},
   "outputs": [],
   "source": [
    "import pandas as pd\n",
    "import geopandas as gpd\n",
    "\n",
    "%matplotlib inline\n",
    "import matplotlib.pyplot as plt\n",
    "import matplotlib as mpl\n",
    "import geoplot\n",
    "import ipywidgets as widgets\n",
    "from ipywidgets import interact"
   ]
  },
  {
   "cell_type": "code",
   "execution_count": 2,
   "metadata": {},
   "outputs": [],
   "source": [
    "cow_war_gdf = gpd.read_file(\"./cow_wars.gpkg\")\n",
    "ucdp_war_gdf = gpd.read_file(\"./ucdp_wars.gpkg\")"
   ]
  },
  {
   "cell_type": "code",
   "execution_count": 3,
   "metadata": {},
   "outputs": [],
   "source": [
    "cow_month_by_month = cow_war_gdf.groupby(\"month_count\")\n",
    "ucdp_month_by_month = ucdp_war_gdf.groupby(\"month_count\")"
   ]
  },
  {
   "cell_type": "markdown",
   "metadata": {},
   "source": [
    "## Wars through time & space: Correlates of War vs UCDP/PRIO\n",
    "\n",
    "The Correlates of War (CoW) and UCDP/PRIO are the two most dominant data sources for conflict and peace researchers. This visualization illustrates some of these differences - both use different country identifier systems and have slightly different methodologies for recording wars. The maps show how many wars have occured in a given country during a given month, according to either CoW or UCDP/PRIO."
   ]
  },
  {
   "cell_type": "code",
   "execution_count": 4,
   "metadata": {},
   "outputs": [
    {
     "data": {
      "application/vnd.jupyter.widget-view+json": {
       "model_id": "69dc59454ad54b75a87d1028526c6d1e",
       "version_major": 2,
       "version_minor": 0
      },
      "text/plain": [
       "Play(value=0, description='Press play', interval=1000, max=844)"
      ]
     },
     "metadata": {},
     "output_type": "display_data"
    }
   ],
   "source": [
    "play = widgets.Play(\n",
    "    interval=1000,\n",
    "    value=0,\n",
    "    min=0,\n",
    "    max=844,\n",
    "    step=1,\n",
    "    description=\"Press play\",\n",
    "    disabled=False\n",
    ")\n",
    "slider = widgets.IntSlider(min=0, max=844, description='month', value=0, layout={'width': '1000px'})\n",
    "widgets.jslink((play, 'value'), (slider, 'value'))\n",
    "play"
   ]
  },
  {
   "cell_type": "markdown",
   "metadata": {},
   "source": [
    "## Ongoing Wars Per Month"
   ]
  },
  {
   "cell_type": "code",
   "execution_count": 5,
   "metadata": {},
   "outputs": [
    {
     "data": {
      "application/vnd.jupyter.widget-view+json": {
       "model_id": "a3749b40b1504aa9a5c5be8de3b425d7",
       "version_major": 2,
       "version_minor": 0
      },
      "text/plain": [
       "interactive(children=(IntSlider(value=0, description='month', layout=Layout(width='1000px'), max=844), Output(…"
      ]
     },
     "metadata": {},
     "output_type": "display_data"
    }
   ],
   "source": [
    "@interact(month_count=slider)\n",
    "def plot_mnth(month_count):\n",
    "\n",
    "    norm = mpl.colors.Normalize(vmin=0,vmax=4)\n",
    "    fig, (ax1, ax2) = plt.subplots(2)\n",
    "    plt.subplots_adjust(hspace=.05)\n",
    "    this_month = pd.Timestamp(year=1946, month=1, day=1) + pd.DateOffset(months=month_count)\n",
    "    this_month_text = this_month.strftime('%Y %b')\n",
    "    \n",
    "    plt.suptitle(this_month_text, size=30)\n",
    "    ax1.set_title('Correlates of War')\n",
    "    ax2.set_title('UCDP/PRIO')\n",
    "    \n",
    "    cow_df = cow_month_by_month.get_group(month_count)\n",
    "    cow_map = geoplot.choropleth(cow_df, ax=ax1,\n",
    "                            hue='war_count', \n",
    "                            cmap='magma', \n",
    "                            norm=norm, \n",
    "                            figsize=(20,10), \n",
    "                            legend=True,\n",
    "                            edgecolor='white', \n",
    "                            linewidth=0.75)\n",
    "\n",
    "    ucdp_df = ucdp_month_by_month.get_group(month_count)\n",
    "    ucdp_map = geoplot.choropleth(ucdp_df, ax=ax2,\n",
    "                            hue='war_count', \n",
    "                            cmap='magma', \n",
    "                            norm=norm, \n",
    "                            figsize=(20,10), \n",
    "                            legend=True,\n",
    "                            edgecolor='white', \n",
    "                            linewidth=0.75)\n",
    "    return None"
   ]
  },
  {
   "cell_type": "markdown",
   "metadata": {},
   "source": [
    "## Cumulative number of months spent at war (since 1946)"
   ]
  },
  {
   "cell_type": "code",
   "execution_count": 6,
   "metadata": {},
   "outputs": [
    {
     "data": {
      "application/vnd.jupyter.widget-view+json": {
       "model_id": "101ba1d38eb644e4b247274cbc93bb01",
       "version_major": 2,
       "version_minor": 0
      },
      "text/plain": [
       "interactive(children=(IntSlider(value=0, description='month', layout=Layout(width='1000px'), max=844), Output(…"
      ]
     },
     "metadata": {},
     "output_type": "display_data"
    }
   ],
   "source": [
    "@interact(month_count=slider)\n",
    "def plot_mnth(month_count):\n",
    "\n",
    "    norm = mpl.colors.Normalize(vmin=0,vmax=1600)\n",
    "    fig, (ax1, ax2) = plt.subplots(2)\n",
    "    plt.subplots_adjust(hspace=.05)\n",
    "    this_month = pd.Timestamp(year=1946, month=1, day=1) + pd.DateOffset(months=month_count)\n",
    "    this_month_text = this_month.strftime('%Y %b')\n",
    "    \n",
    "    plt.suptitle(this_month_text, size=30)\n",
    "    ax1.set_title('Correlates of War')\n",
    "    ax2.set_title('UCDP/PRIO')\n",
    "    cow_df = cow_month_by_month.get_group(month_count)\n",
    "    cow_map = geoplot.choropleth(cow_df, ax=ax1,\n",
    "                            hue='war_count_cum', \n",
    "                            cmap='plasma', \n",
    "                            norm=norm, \n",
    "                            figsize=(20,10), \n",
    "                            legend=True,\n",
    "                            edgecolor='white', \n",
    "                            linewidth=0.75)\n",
    "\n",
    "    ucdp_df = ucdp_month_by_month.get_group(month_count)\n",
    "    ucdp_map = geoplot.choropleth(ucdp_df, ax=ax2,\n",
    "                            hue='war_count_cum', \n",
    "                            cmap='plasma', \n",
    "                            norm=norm, \n",
    "                            figsize=(20,10), \n",
    "                            legend=True,\n",
    "                            edgecolor='white', \n",
    "                            linewidth=0.75)\n",
    "    return None"
   ]
  },
  {
   "cell_type": "markdown",
   "metadata": {},
   "source": [
    "## Polity Score: Autocracies and Democracies\n",
    "\n",
    "Polity IV gives each country-year in the CoW system a \"polity\" score, which is the \"democracy\" score minus the \"autocracy\" score. -10 is the most autocratic score, +10 is the most democratic score, and 0 means either a neutral score or that the government is in a transition period."
   ]
  },
  {
   "cell_type": "code",
   "execution_count": 7,
   "metadata": {},
   "outputs": [
    {
     "data": {
      "application/vnd.jupyter.widget-view+json": {
       "model_id": "fc5a96ce5ca9461a883b1a1e5e33f13c",
       "version_major": 2,
       "version_minor": 0
      },
      "text/plain": [
       "interactive(children=(IntSlider(value=0, description='month', layout=Layout(width='1000px'), max=844), Output(…"
      ]
     },
     "metadata": {},
     "output_type": "display_data"
    }
   ],
   "source": [
    "@interact(month_count=slider)\n",
    "def plot_mnth(month_count):\n",
    "    fig, ax = plt.subplots()\n",
    "    norm = mpl.colors.Normalize(vmin=-10,vmax=10)\n",
    "    plt.rcParams[\"figure.figsize\"] = (20,15)\n",
    "    this_month = pd.Timestamp(year=1946, month=1, day=1) + pd.DateOffset(months=month_count)\n",
    "    this_month_text = this_month.strftime('%Y %b')\n",
    "    \n",
    "    plt.suptitle(this_month_text, size=30)\n",
    "    \n",
    "    cow_df = cow_month_by_month.get_group(month_count)\n",
    "    cow_map = geoplot.choropleth(cow_df, ax=ax,\n",
    "                            hue='polity2', \n",
    "                            cmap='RdYlBu', \n",
    "                            norm=norm, \n",
    "                            figsize=(20,10), \n",
    "                            legend=True, \n",
    "                            legend_kwargs={'orientation': 'horizontal'},\n",
    "                            edgecolor='white', \n",
    "                            linewidth=0.75)\n",
    "\n",
    "    return None"
   ]
  },
  {
   "cell_type": "markdown",
   "metadata": {},
   "source": [
    "## Citations\n",
    "\n",
    "### Datasets used\n",
    "\n",
    "#### CShapes\n",
    "\n",
    "Weidmann, Nils B., Doreen Kuse, and Kristian Skrede Gleditsch. 2010. The Geography of the International System: The CShapes Dataset. International Interactions 36 (1).\n",
    "\n",
    "#### Correlates of War\n",
    "\n",
    "Correlates of War Project. 2017. \"State System Membership List, v2016.\" Online, http://correlatesofwar.org\n",
    "Sarkees, Meredith Reid and Frank Wayman (2010). Resort to War: 1816 - 2007. Washington DC: CQ Press.\n",
    "\n",
    "Palmer, Glenn, Vito D'Orazio, Michael R. Kenwick, and Roseanne W. McManus. Forthcoming. “Updating the Militarized Interstate Dispute Data: A Response to Gibler, Miller, and Little.” International Studies Quarterly.\n",
    "\n",
    "#### UCDP/PRIO Armed Conflict\n",
    "\n",
    "Pettersson, Therese; Stina Högbladh & Magnus Öberg, 2019. Organized violence, 1989-2018 and peace agreements, Journal of Peace Research 56(4).\n",
    "\n",
    "Gleditsch, Nils Petter, Peter Wallensteen, Mikael Eriksson, Margareta Sollenberg, and Håvard Strand (2002) Armed Conflict 1946-2001: A New Dataset. Journal of Peace Research 39(5).\n",
    "\n",
    "#### Polity IV\n",
    "\n",
    "Monty G. Marshall, Ted Robert Gurr, Keith Jaggers (2018). POLITY IV PROJECT: Dataset Users' Manual. Center for Systemic Peace.\n",
    "\n",
    "### Data Transformation\n",
    "\n",
    "For the original wrangling and normalization of the CoW datasets, see: https://github.com/jenna-jordan/international-relations-database-extended/blob/master/Wrangle_Data/CoW_Normalize.ipynb\n",
    "\n",
    "For the original wrangling and normalization of the UCDP/PRIO dataset, see: https://github.com/jenna-jordan/international-relations-database-extended/blob/master/Wrangle_Data/UCDP-PRIO_Normalize.ipynb\n",
    "\n",
    "For the geospatial wrangling and creation of the GeoPackages loaded in this notebook, see: https://github.com/jenna-jordan/IS590DV-FinalProject/blob/master/Notebooks_Part3/Create%20Data%20for%20War%20Maps.ipynb"
   ]
  },
  {
   "cell_type": "code",
   "execution_count": null,
   "metadata": {},
   "outputs": [],
   "source": []
  }
 ],
 "metadata": {
  "hide_input": true,
  "kernelspec": {
   "display_name": "Python [conda env:geo_env_simple] *",
   "language": "python",
   "name": "conda-env-geo_env_simple-py"
  },
  "language_info": {
   "codemirror_mode": {
    "name": "ipython",
    "version": 3
   },
   "file_extension": ".py",
   "mimetype": "text/x-python",
   "name": "python",
   "nbconvert_exporter": "python",
   "pygments_lexer": "ipython3",
   "version": "3.8.0"
  },
  "toc": {
   "base_numbering": 1,
   "nav_menu": {},
   "number_sections": true,
   "sideBar": true,
   "skip_h1_title": false,
   "title_cell": "Table of Contents",
   "title_sidebar": "Contents",
   "toc_cell": false,
   "toc_position": {},
   "toc_section_display": true,
   "toc_window_display": false
  },
  "varInspector": {
   "cols": {
    "lenName": 16,
    "lenType": 16,
    "lenVar": 40
   },
   "kernels_config": {
    "python": {
     "delete_cmd_postfix": "",
     "delete_cmd_prefix": "del ",
     "library": "var_list.py",
     "varRefreshCmd": "print(var_dic_list())"
    },
    "r": {
     "delete_cmd_postfix": ") ",
     "delete_cmd_prefix": "rm(",
     "library": "var_list.r",
     "varRefreshCmd": "cat(var_dic_list()) "
    }
   },
   "types_to_exclude": [
    "module",
    "function",
    "builtin_function_or_method",
    "instance",
    "_Feature"
   ],
   "window_display": false
  }
 },
 "nbformat": 4,
 "nbformat_minor": 2
}
