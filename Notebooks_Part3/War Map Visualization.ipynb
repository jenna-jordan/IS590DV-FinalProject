{
 "cells": [
  {
   "cell_type": "markdown",
   "metadata": {},
   "source": [
    "## Wars through time & space: Correlates of War vs UCDP/PRIO\n",
    "\n",
    "by Jenna Jordan\n",
    "\n",
    "The Correlates of War (CoW) and UCDP/PRIO are the two most dominant data sources for conflict and peace researchers. This visualization illustrates some of these differences - both use different country identifier systems and have slightly different methodologies for recording wars. The maps show how many wars have occured in a given country during a given month, according to either CoW or UCDP/PRIO."
   ]
  },
  {
   "cell_type": "code",
   "execution_count": 1,
   "metadata": {},
   "outputs": [],
   "source": [
    "import pandas as pd\n",
    "import numpy as np\n",
    "import geopandas as gpd\n",
    "\n",
    "%matplotlib inline\n",
    "import matplotlib.pyplot as plt\n",
    "import matplotlib as mpl\n",
    "import seaborn as sns\n",
    "import geoplot\n",
    "import ipywidgets as widgets\n",
    "from ipywidgets import interact"
   ]
  },
  {
   "cell_type": "code",
   "execution_count": 2,
   "metadata": {},
   "outputs": [],
   "source": [
    "cow_war_gdf = gpd.read_file(\"./cow_wars.gpkg\")\n",
    "ucdp_war_gdf = gpd.read_file(\"./ucdp_wars.gpkg\")"
   ]
  },
  {
   "cell_type": "code",
   "execution_count": 3,
   "metadata": {},
   "outputs": [],
   "source": [
    "cow_month_by_month = cow_war_gdf.groupby(\"month_count\")\n",
    "ucdp_month_by_month = ucdp_war_gdf.groupby(\"month_count\")"
   ]
  },
  {
   "cell_type": "code",
   "execution_count": 4,
   "metadata": {},
   "outputs": [
    {
     "data": {
      "application/vnd.jupyter.widget-view+json": {
       "model_id": "31c11ec3afa940f79a34c12264bc3788",
       "version_major": 2,
       "version_minor": 0
      },
      "text/plain": [
       "Play(value=0, description='Press play', interval=1000, max=844)"
      ]
     },
     "metadata": {},
     "output_type": "display_data"
    }
   ],
   "source": [
    "play = widgets.Play(\n",
    "    interval=1000,\n",
    "    value=0,\n",
    "    min=0,\n",
    "    max=844,\n",
    "    step=1,\n",
    "    description=\"Press play\",\n",
    "    disabled=False\n",
    ")\n",
    "slider = widgets.IntSlider(min=0, max=844, description='month', value=0, layout={'width': '1000px'})\n",
    "widgets.jslink((play, 'value'), (slider, 'value'))\n",
    "play"
   ]
  },
  {
   "cell_type": "markdown",
   "metadata": {},
   "source": [
    "## Ongoing Wars Per Month"
   ]
  },
  {
   "cell_type": "code",
   "execution_count": 5,
   "metadata": {},
   "outputs": [
    {
     "data": {
      "application/vnd.jupyter.widget-view+json": {
       "model_id": "85e9408c904142e7a43734035b8ab466",
       "version_major": 2,
       "version_minor": 0
      },
      "text/plain": [
       "interactive(children=(IntSlider(value=0, description='month', layout=Layout(width='1000px'), max=844), Output(…"
      ]
     },
     "metadata": {},
     "output_type": "display_data"
    }
   ],
   "source": [
    "@interact(month_count=slider)\n",
    "def plot_mnth(month_count):\n",
    "\n",
    "    norm = mpl.colors.Normalize(vmin=0,vmax=4)\n",
    "    fig, (ax1, ax2) = plt.subplots(2)\n",
    "    plt.rcParams[\"figure.figsize\"] = (20,15)\n",
    "    plt.subplots_adjust(hspace=.05)\n",
    "    this_month = pd.Timestamp(year=1946, month=1, day=1) + pd.DateOffset(months=month_count)\n",
    "    this_month_text = this_month.strftime('%Y %b')\n",
    "    \n",
    "    plt.suptitle(this_month_text, size=30)\n",
    "    ax1.set_title('Correlates of War')\n",
    "    ax2.set_title('UCDP/PRIO')\n",
    "    cow_df = cow_month_by_month.get_group(month_count)\n",
    "    cow_map = geoplot.choropleth(cow_df, ax=ax1,\n",
    "                            hue='war_count', \n",
    "                            cmap='magma', \n",
    "                            norm=norm, \n",
    "                            figsize=(20,10), \n",
    "                            legend=True,\n",
    "                            edgecolor='white', \n",
    "                            linewidth=0.75)\n",
    "\n",
    "    ucdp_df = ucdp_month_by_month.get_group(month_count)\n",
    "    ucdp_map = geoplot.choropleth(ucdp_df, ax=ax2,\n",
    "                            hue='war_count', \n",
    "                            cmap='magma', \n",
    "                            norm=norm, \n",
    "                            figsize=(20,10), \n",
    "                            legend=True,\n",
    "                            edgecolor='white', \n",
    "                            linewidth=0.75)\n",
    "    return None"
   ]
  },
  {
   "cell_type": "markdown",
   "metadata": {},
   "source": [
    "## Cumulative number of wars (by month)"
   ]
  },
  {
   "cell_type": "code",
   "execution_count": 6,
   "metadata": {},
   "outputs": [
    {
     "data": {
      "application/vnd.jupyter.widget-view+json": {
       "model_id": "aa203cafa6494c8aa891783d4a282b8b",
       "version_major": 2,
       "version_minor": 0
      },
      "text/plain": [
       "interactive(children=(IntSlider(value=0, description='month', layout=Layout(width='1000px'), max=844), Output(…"
      ]
     },
     "metadata": {},
     "output_type": "display_data"
    }
   ],
   "source": [
    "@interact(month_count=slider)\n",
    "def plot_mnth(month_count):\n",
    "\n",
    "    norm = mpl.colors.Normalize(vmin=0,vmax=1600)\n",
    "    fig, (ax1, ax2) = plt.subplots(2)\n",
    "    plt.rcParams[\"figure.figsize\"] = (20,15)\n",
    "    plt.subplots_adjust(hspace=.05)\n",
    "    this_month = pd.Timestamp(year=1946, month=1, day=1) + pd.DateOffset(months=month_count)\n",
    "    this_month_text = this_month.strftime('%Y %b')\n",
    "    \n",
    "    plt.suptitle(this_month_text, size=30)\n",
    "    ax1.set_title('Correlates of War')\n",
    "    ax2.set_title('UCDP/PRIO')\n",
    "    cow_df = cow_month_by_month.get_group(month_count)\n",
    "    cow_map = geoplot.choropleth(cow_df, ax=ax1,\n",
    "                            hue='war_count_cum', \n",
    "                            cmap='plasma', \n",
    "                            norm=norm, \n",
    "                            figsize=(20,10), \n",
    "                            legend=True,\n",
    "                            edgecolor='white', \n",
    "                            linewidth=0.75)\n",
    "\n",
    "    ucdp_df = ucdp_month_by_month.get_group(month_count)\n",
    "    ucdp_map = geoplot.choropleth(ucdp_df, ax=ax2,\n",
    "                            hue='war_count_cum', \n",
    "                            cmap='plasma', \n",
    "                            norm=norm, \n",
    "                            figsize=(20,10), \n",
    "                            legend=True,\n",
    "                            edgecolor='white', \n",
    "                            linewidth=0.75)\n",
    "    return None"
   ]
  },
  {
   "cell_type": "markdown",
   "metadata": {},
   "source": [
    "## Polity Score: Autocracies and Democracies"
   ]
  },
  {
   "cell_type": "code",
   "execution_count": 7,
   "metadata": {},
   "outputs": [
    {
     "data": {
      "application/vnd.jupyter.widget-view+json": {
       "model_id": "3d8e54bed629425b9ee12f43fbc91a0f",
       "version_major": 2,
       "version_minor": 0
      },
      "text/plain": [
       "interactive(children=(IntSlider(value=0, description='month', layout=Layout(width='1000px'), max=844), Output(…"
      ]
     },
     "metadata": {},
     "output_type": "display_data"
    }
   ],
   "source": [
    "@interact(month_count=slider)\n",
    "def plot_mnth(month_count):\n",
    "    fig, ax = plt.subplots()\n",
    "    plt.rcParams[\"figure.figsize\"] = (20,10)\n",
    "\n",
    "    norm = mpl.colors.Normalize(vmin=-10,vmax=10)\n",
    "    plt.rcParams[\"figure.figsize\"] = (20,15)\n",
    "    this_month = pd.Timestamp(year=1946, month=1, day=1) + pd.DateOffset(months=month_count)\n",
    "    this_month_text = this_month.strftime('%Y %b')\n",
    "    \n",
    "    plt.suptitle(this_month_text, size=30)\n",
    "    \n",
    "    cow_df = cow_month_by_month.get_group(month_count)\n",
    "    cow_map = geoplot.choropleth(cow_df, ax=ax,\n",
    "                            hue='polity2', \n",
    "                            cmap='PRGn', \n",
    "                            norm=norm, \n",
    "                            figsize=(20,10), \n",
    "                            legend=True, \n",
    "                            legend_kwargs={'orientation': 'horizontal'},\n",
    "                            edgecolor='white', \n",
    "                            linewidth=0.75)\n",
    "\n",
    "    return None"
   ]
  },
  {
   "cell_type": "code",
   "execution_count": null,
   "metadata": {},
   "outputs": [],
   "source": []
  }
 ],
 "metadata": {
  "hide_input": true,
  "kernelspec": {
   "display_name": "Python [conda env:geo_env] *",
   "language": "python",
   "name": "conda-env-geo_env-py"
  },
  "language_info": {
   "codemirror_mode": {
    "name": "ipython",
    "version": 3
   },
   "file_extension": ".py",
   "mimetype": "text/x-python",
   "name": "python",
   "nbconvert_exporter": "python",
   "pygments_lexer": "ipython3",
   "version": "3.7.3"
  },
  "toc": {
   "base_numbering": 1,
   "nav_menu": {},
   "number_sections": true,
   "sideBar": true,
   "skip_h1_title": false,
   "title_cell": "Table of Contents",
   "title_sidebar": "Contents",
   "toc_cell": false,
   "toc_position": {},
   "toc_section_display": true,
   "toc_window_display": false
  },
  "varInspector": {
   "cols": {
    "lenName": 16,
    "lenType": 16,
    "lenVar": 40
   },
   "kernels_config": {
    "python": {
     "delete_cmd_postfix": "",
     "delete_cmd_prefix": "del ",
     "library": "var_list.py",
     "varRefreshCmd": "print(var_dic_list())"
    },
    "r": {
     "delete_cmd_postfix": ") ",
     "delete_cmd_prefix": "rm(",
     "library": "var_list.r",
     "varRefreshCmd": "cat(var_dic_list()) "
    }
   },
   "types_to_exclude": [
    "module",
    "function",
    "builtin_function_or_method",
    "instance",
    "_Feature"
   ],
   "window_display": false
  }
 },
 "nbformat": 4,
 "nbformat_minor": 2
}
