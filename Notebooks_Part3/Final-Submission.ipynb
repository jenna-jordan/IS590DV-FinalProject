{
 "cells": [
  {
   "cell_type": "markdown",
   "metadata": {},
   "source": [
    "# IS590DV - Final Project\n",
    "## Group Name: Allied Against An Anonymous Axis\n",
    "### Group Members: Jenna Jordan, Xue Lu, Gianni Pezzarossi, Dennis Piehl, Ryan Wang\n",
    "***"
   ]
  },
  {
   "cell_type": "code",
   "execution_count": 4,
   "metadata": {},
   "outputs": [],
   "source": [
    "# Libraries used for Land area plots.\n",
    "\n",
    "import pandas as pd\n",
    "import numpy as np\n",
    "import matplotlib.pyplot as plt\n",
    "import matplotlib\n",
    "import matplotlib.cm as cm\n",
    "from matplotlib.colors import Normalize\n",
    "from matplotlib import gridspec"
   ]
  },
  {
   "cell_type": "code",
   "execution_count": null,
   "metadata": {},
   "outputs": [],
   "source": [
    "#Jenna's Map"
   ]
  },
  {
   "cell_type": "code",
   "execution_count": null,
   "metadata": {},
   "outputs": [],
   "source": [
    "import seaborn as sns"
   ]
  },
  {
   "cell_type": "markdown",
   "metadata": {},
   "source": [
    "***\n",
    "\n",
    "# Wars by Region and Type: CoW vs UCDP/PRIO\n",
    "\n",
    "> The Correlates of War (CoW) and UCDP/PRIO are the two most dominant data sources for conflict and peace researchers. They follow different methods to record conflicts, and record information according to different data organization schemas. However, both track much of the same information for conflicts. Here, you can see how the two datasets compare in tracking conflicts according to their type and where they occur.\n",
    "\n",
    "> Some differences of note: \n",
    "\n",
    "> - CoW has war data from 1816 - 2007, while UCDP/PRIO has war data from 1946 - 2018.\n",
    "> - CoW only tracks conflicts that result in over 1,000 deaths per year, while UCDP/PRIO tracks conflicts that result in over 25 deaths per year - but records whether that conflict resulted in over 1,000 deaths per year. For the purpose of comparison, only conflicts with 1,000 deaths per year are plotted\n",
    "> - CoW tracks 4 types of war: inter-state, intra-state, extra-state, and non-state. UCDP/PRIO does not track non-state conflict, and they divide intra-state war into two categories: intrastate and internationalized intrastate (extra-state corresponds to extrasystemic). Furthermore, CoW and UCDP/PRIO have different definitions for what is considered an intrastate vs extrastate war.\n",
    "\n",
    "***"
   ]
  },
  {
   "cell_type": "code",
   "execution_count": null,
   "metadata": {},
   "outputs": [],
   "source": [
    "cow_regions_toplot = pd.read_csv(\"./cow_regions_areaplot_data.csv\")\n",
    "cow_type_toplot = pd.read_csv(\"./cow_type_areaplot_data.csv\")\n",
    "ucdp_regions_toplot = pd.read_csv(\"./ucdp_regions_areaplot_data.csv\")\n",
    "ucdp_type_toplot = pd.read_csv(\"./ucdp_type_areaplot_data.csv\")"
   ]
  },
  {
   "cell_type": "code",
   "execution_count": null,
   "metadata": {},
   "outputs": [],
   "source": [
    "cow_regions_toplot_trimmed = cow_regions_toplot[cow_regions_toplot['year'] > 1945]\n",
    "cow_type_toplot_trimmed = cow_type_toplot[cow_regions_toplot['year'] > 1945]"
   ]
  },
  {
   "cell_type": "code",
   "execution_count": null,
   "metadata": {},
   "outputs": [],
   "source": [
    "plt.rcParams[\"figure.figsize\"] = (20,10)\n",
    "plt.stackplot(cow_regions_toplot['year'], cow_regions_toplot['Africa'], cow_regions_toplot['Asia'], cow_regions_toplot['Europe'], \n",
    "              cow_regions_toplot['Middle East'], cow_regions_toplot['W. Hemisphere'], cow_regions_toplot['Oceania'], \n",
    "             labels=['Africa', 'Asia', 'Europe', 'Middle East', 'W. Hemisphere', 'Oceania'])\n",
    "plt.legend(loc='upper left')\n",
    "plt.xlabel('year')\n",
    "plt.ylabel('number of wars')\n",
    "plt.title('Number of Wars Over Time Per Region: \\n According to the Correlates of War (1816-2007)', size='30')\n",
    "plt.show()"
   ]
  },
  {
   "cell_type": "code",
   "execution_count": null,
   "metadata": {},
   "outputs": [],
   "source": [
    "plt.rcParams[\"figure.figsize\"] = (20,10)\n",
    "\n",
    "fig, (ax1, ax2) = plt.subplots(2, sharex=True, sharey=True)\n",
    "ax1.stackplot(cow_regions_toplot_trimmed['year'], cow_regions_toplot_trimmed['Africa'], cow_regions_toplot_trimmed['Asia'], cow_regions_toplot_trimmed['Europe'], \n",
    "              cow_regions_toplot_trimmed['Middle East'], cow_regions_toplot_trimmed['W. Hemisphere'], cow_regions_toplot_trimmed['Oceania'], \n",
    "             labels=['Africa', 'Asia', 'Europe', 'Middle East', 'W. Hemisphere', 'Oceania'])\n",
    "ax2.stackplot(ucdp_regions_toplot['year'], ucdp_regions_toplot['Africa'], ucdp_regions_toplot['Asia'], ucdp_regions_toplot['Europe'], \n",
    "              ucdp_regions_toplot['Middle East'], ucdp_regions_toplot['Americas'], \n",
    "             labels=['Africa', 'Asia', 'Europe', 'Middle East', 'Americas'])\n",
    "\n",
    "ax1.legend(loc='upper right')\n",
    "ax2.legend(loc='upper right')\n",
    "ax1.set_title('Correlates of War')\n",
    "ax2.set_title('UCDP/PRIO')\n",
    "plt.xlabel('year')\n",
    "plt.ylabel('number of wars')\n",
    "plt.suptitle('Number of Wars Over Time Per Region', size='30')\n",
    "plt.show()"
   ]
  },
  {
   "cell_type": "code",
   "execution_count": null,
   "metadata": {},
   "outputs": [],
   "source": [
    "plt.rcParams[\"figure.figsize\"] = (20,7)\n",
    "plt.stackplot(cow_type_toplot['year'], cow_type_toplot['Inter-State War '], cow_type_toplot['Intra-State War '], \n",
    "              cow_type_toplot['Extra-State War '], cow_type_toplot['Non-State War '], \n",
    "             labels=['Inter-State War', 'Intra-State War', 'Extra-State War', 'Non-State War'])\n",
    "plt.legend(loc='upper left')\n",
    "plt.xlabel('year')\n",
    "plt.ylabel('number of wars')\n",
    "plt.title('Number of Wars Over Time Per Type: \\n According to the Correlates of War (1816-2007)', size=30)\n",
    "plt.show()"
   ]
  },
  {
   "cell_type": "code",
   "execution_count": null,
   "metadata": {},
   "outputs": [],
   "source": [
    "plt.rcParams[\"figure.figsize\"] = (20,10)\n",
    "\n",
    "fig, (ax1, ax2) = plt.subplots(2, sharex=True, sharey=True,)\n",
    "ax1.stackplot(cow_type_toplot_trimmed['year'], cow_type_toplot_trimmed['Inter-State War '], \n",
    "              cow_type_toplot_trimmed['Intra-State War '], cow_type_toplot_trimmed['Extra-State War '], \n",
    "              cow_type_toplot_trimmed['Non-State War '], labels=['Inter-State War', 'Intra-State War', 'Extra-State War', 'Non-State War'])\n",
    "ax2.stackplot(ucdp_type_toplot['year'], ucdp_type_toplot['Interstate'], ucdp_type_toplot['Internal'], \n",
    "              ucdp_type_toplot['Extrasystemic'], labels=['Interstate', 'Internal', 'Extrasystemic'])\n",
    "\n",
    "ax1.legend(loc='upper right')\n",
    "ax2.legend(loc='upper right')\n",
    "ax1.set_title('Correlates of War')\n",
    "ax2.set_title('UCDP/PRIO')\n",
    "plt.xlabel('year')\n",
    "plt.ylabel('number of wars')\n",
    "plt.suptitle('Number of Wars Over Time Per Type', size='30')\n",
    "plt.show()"
   ]
  },
  {
   "cell_type": "markdown",
   "metadata": {},
   "source": [
    "***\n",
    "\n",
    "> This last plot really makes clear some of the war type coding differences between CoW and UCDP/PRIO. It is likely that wars being recorded as \"Extra-State\" in CoW are being recorded as \"Internal\" in UCDP/PRIO\n",
    "\n",
    "***"
   ]
  },
  {
   "cell_type": "markdown",
   "metadata": {},
   "source": [
    "# Wars by Region, Conflict Type, and Country (1816-2008)"
   ]
  },
  {
   "cell_type": "code",
   "execution_count": null,
   "metadata": {},
   "outputs": [],
   "source": [
    "# Libraries used for Sankey plots\n",
    "import plotly.graph_objects as go\n",
    "from matplotlib.ticker import MaxNLocator\n",
    "import copy"
   ]
  },
  {
   "cell_type": "markdown",
   "metadata": {},
   "source": [
    "***\n",
    "\n",
    "### COW Data"
   ]
  },
  {
   "cell_type": "code",
   "execution_count": null,
   "metadata": {},
   "outputs": [],
   "source": [
    "## Using COW data\n",
    "## Make a Sankey plot of Region --> War Type --> Country \n",
    "## Help with Sankey plot obtained here: plot.ly/python/sankey-diagram/\n",
    "\n",
    "data = pd.read_csv('./COW_Sankey_data.csv')\n",
    "\n",
    "srcs = data['srcs'].to_list()\n",
    "tgts = data['tgts'].to_list()\n",
    "vals = data['vals'].to_list()\n",
    "lbls = ['Europe', 'Middle East', 'W. Hemisphere', 'Asia', 'Africa', 'Oceania', 'Inter-State', 'Extra-State', 'Intra-State', 'Non-State', 'United Kingdom', 'France', 'Russia', 'China', 'Turkey', 'United States of America', 'Spain', 'Italy', 'Ethiopia', 'Mexico', 'Argentina', 'Egypt', 'Japan', 'Iraq', 'Germany', 'Netherlands', 'Vietnam', 'Austria-Hungary', 'Peru', 'Afghanistan', 'Portugal', 'Brazil', 'Indonesia', 'India', 'Colombia', 'Syria', 'Cuba', 'Philippines', 'El Salvador', 'Yugoslavia']\n",
    "\n",
    "\n",
    "fig = go.Figure(data=[go.Sankey(\n",
    "    node = {\n",
    "        \"pad\": 15,\n",
    "        \"thickness\": 20,\n",
    "        \"line\": {\"color\": \"black\", \"width\": 0.5},\n",
    "        \"label\": lbls,\n",
    "        \"color\": ['royalblue','rebeccapurple','steelblue','goldenrod', 'forestgreen', 'skyblue', 'fuchsia', 'darkorange', 'red', 'sienna']\n",
    "    },\n",
    "    link = {\n",
    "        \"source\": srcs,\n",
    "        \"target\": tgts,\n",
    "        \"value\": vals\n",
    "    }\n",
    ")])\n",
    "\n",
    "fig.update_layout(title_text = \"\"\"Wars by Region, Conflict Type, and Country (1816-2008)<br>Only the top 50 countries (or, \"Polities\") with highest number of wars are presented on the far right.<br>Data source: <a href='http://www.correlatesofwar.org/data-sets'>Correlates of War</a>\"\"\", font_size = 10, width=1280, height=800)\n",
    "fig.show()"
   ]
  },
  {
   "cell_type": "markdown",
   "metadata": {},
   "source": [
    "***\n",
    "\n",
    "> In the \"Sankey\" plot above, the number of wars occuring from 1816-2008 for each region of the world (Asia, Africa, Middle East, Western Hemisphere, Europe, and Oceania) are depicted through the relative size of each region's wedge. The paths branching from each region illustrate the relative number of each type of war (extra-state, intra-state, inter-state, and non-state) that comprise the total number of wars occuring in the corresponding region. The final group of wedges on the right depict the 50 most war-engaged countries in the past centurty, in which the size of each country's block corresponds to the number of wars in which it has been involved.\n",
    "\n",
    "***"
   ]
  },
  {
   "cell_type": "markdown",
   "metadata": {},
   "source": [
    "### UCDP Data"
   ]
  },
  {
   "cell_type": "code",
   "execution_count": null,
   "metadata": {},
   "outputs": [],
   "source": [
    "## Using UCDP data\n",
    "## Make a Sankey plot of Incompatibility --> Type of conflict --> Region \n",
    "## Help with Sankey plot obtained here: plot.ly/python/sankey-diagram/\n",
    "\n",
    "data = pd.read_csv('./UCDP_Sankey_data.csv')\n",
    "\n",
    "srcs = data['srcs'].to_list()\n",
    "tgts = data['tgts'].to_list()\n",
    "vals = data['vals'].to_list()\n",
    "lbls = ['Territory', 'Government', 'Territory AND Government', 'Extrasystemic', 'Interstate', 'Internal', 'Intenantionalized Internal', 'Europe', 'Middle East', 'Asia', 'Africa', 'Americas', 'India', 'Ethiopia', 'Myanmar (Burma)', 'Russia (Soviet Union)', 'Mali', 'Nigeria', 'Syria', 'Cameroon', 'Malaysia', 'Iran', 'Indonesia', 'Bosnia-Herzegovina', 'DR Congo (Zaire)', 'Pakistan', 'Israel', 'Serbia (Yugoslavia)', 'Georgia', 'Yemen (North Yemen)', 'Ukraine', 'Iraq', 'United States of America', 'Cuba', 'Peru', 'Paraguay', 'Panama']\n",
    "\n",
    "fig = go.Figure(data=[go.Sankey(\n",
    "    node = {\n",
    "        \"pad\": 15,\n",
    "        \"thickness\": 20,\n",
    "        \"line\": {\"color\": \"black\", \"width\": 0.5},\n",
    "        \"label\": lbls,\n",
    "        \"color\": ['sienna','dimgray','tan','darkorange','fuchsia', 'red', 'crimson', 'royalblue', 'rebeccapurple', 'goldenrod', 'forestgreen', 'steelblue']\n",
    "    },\n",
    "    link = {\n",
    "        \"source\": srcs,\n",
    "        \"target\": tgts,\n",
    "        \"value\": vals\n",
    "    }\n",
    ")])\n",
    "\n",
    "fig.update_layout(title_text = \"\"\"Conflicts by Underlying Incompatibility, Type of Conflict, and Region (1946-2018)<br>Top 5 countries (or, \"Locations\") with highest number of conflicts in each region are displayed on the far right.<br>Data source: <a href='https://www.prio.org/Data/Armed-Conflict/UCDP-PRIO/'>UCDP/PRIO Armed Conflict</a>\"\"\", font_size = 10, width=1280, height=800)\n",
    "fig.show()\n"
   ]
  },
  {
   "cell_type": "markdown",
   "metadata": {},
   "source": [
    "***\n",
    "\n",
    "> The visualization presented above aims at conveying the correlation that exists between the underlying issue (or, \"incompatiblity\") being fought over in all conflicts (from 1946-2018) and the type of conflict through which the war occurs as well as the regions of the world at which these correlations are observed. Accordingly, this interactive Sankey-style plot illustrates the relative number of conflicts associated with each correlation (based on the size of each node/wedge) as well as the exact quantity of conflicts for each component on the plot (by hovering your mouse over the block). \n",
    "\n",
    "> On the far left of the plot, the three different types of incompatibilities are shown (territory, governemnt, and territory AND government), in which the relative height of each wedge corresponds to the number of conflicts that have occurred for that particular underlying issue. The branching paths that extend from each incompatiblity links to the different types of conflicts that are represented by that issue, which illustrates the relative differences in the number of each conflict type that can be attribute from each corresponding incompatibility. The next set of branching illustrates the number of each type of conflict in which each region of the world has been involved. Finally, the 5 most conflict-ridden countries from each region of the world are shown at the very far right of the plot, extending from the region to which they cocrrespond.   \n",
    "\n",
    "> To revisualize this set of data for allowing a more quantitative interpretation and comparison of the number of conflicts, all of the data presented above are re-illustrated in the form of bar plots below.\n",
    "\n",
    "***"
   ]
  },
  {
   "cell_type": "code",
   "execution_count": null,
   "metadata": {},
   "outputs": [],
   "source": [
    "## Make bar plots illustrating quantitative values in Sankey plot above\n",
    "# Data already pre-processed in Part 2 notebook -- resulting values are specified explicitly here to avoid need to re-wrangle data.\n",
    "# Help with colormapping of barplots obtained here: https://stackoverflow.com/questions/51204505/python-barplot-with-colorbar\n",
    "\n",
    "# Group number of conflicts by incompatibility, type of conflict, region, and location [pre-processed data; values specified explicitly here] \n",
    "incompatibilities = pd.Series({1: 208, 2: 139, 3: 4})\n",
    "conflict_types =  pd.Series({1: 21, 2: 62, 3: 202, 4: 66})\n",
    "region_ids =  pd.Series({1: 54, 2: 49, 3: 93, 4: 125, 5: 30})\n",
    "locations = pd.read_csv('UCDP_barplot_location_data.csv')\n",
    "topN_locations = locations.nlargest(50, 'conflict_id').reset_index()\n",
    "\n",
    "# Plot data\n",
    "plt.clf()\n",
    "\n",
    "plt.figure(1)\n",
    "plt.figure(1).set_figheight(5)\n",
    "plt.figure(1).set_figwidth(18)\n",
    "\n",
    "plt.subplot(131)\n",
    "plt.bar(incompatibilities.index, incompatibilities.values, width=0.8, color=['sienna','dimgray','tan'])\n",
    "plt.xlabel('Type of Incompatability', fontsize=14)\n",
    "plt.xticks(np.array(incompatibilities.index).astype(int), ['Territory','Government','Territory AND\\nGovernment'])\n",
    "plt.ylabel('Number of Conflicts', fontsize=14)\n",
    "plt.title('Number of Conflicts from 1946-2018\\nby Type of Incompatibility', fontsize=16)\n",
    "\n",
    "plt.subplot(132)\n",
    "plt.bar(conflict_types.index, conflict_types.values, width=0.8, color=['darkorange','fuchsia', 'red', 'crimson'])\n",
    "plt.xlabel('Type of Conflict', fontsize=14)\n",
    "plt.xticks(np.array(conflict_types.index).astype(int), ['Extrasystemic','Interstate', 'Internal', 'Intenantionalized\\nInternal'])\n",
    "plt.ylabel('Number of Conflicts', fontsize=14)\n",
    "plt.title('Number of Conflicts from 1946-2018\\nby Type of Conflict', fontsize=16)\n",
    "\n",
    "plt.subplot(133)\n",
    "plt.bar(region_ids.index, region_ids.values, width=0.8, color=['royalblue', 'rebeccapurple', 'goldenrod', 'forestgreen', 'steelblue'])\n",
    "plt.xlabel('Region', fontsize=14)\n",
    "plt.xticks(np.array(region_ids.index).astype(int), ['Europe', 'Middle East', 'Asia', 'Africa', 'Americas'])\n",
    "plt.ylabel('Number of Conflicts', fontsize=14)\n",
    "plt.title('Number of Conflicts from 1946-2018\\nby Region', fontsize=16)\n",
    "\n",
    "\n",
    "plt.figure(2)\n",
    "plt.figure(2).set_figheight(5)\n",
    "plt.figure(2).set_figwidth(18)\n",
    "\n",
    "data_color = [float(i) / float(len(topN_locations)) / 1.3 for i in range(len(topN_locations))]\n",
    "my_cmap = plt.cm.get_cmap('gist_stern')\n",
    "colors = my_cmap(data_color)\n",
    "\n",
    "plt.bar(topN_locations.index, topN_locations.conflict_id, width=0.8, color=colors)\n",
    "plt.xlabel('Location', fontsize=14)\n",
    "plt.xticks(np.array(topN_locations.index).astype(int),topN_locations.location.to_list(), rotation='vertical')\n",
    "plt.ylabel('Number of Conflicts', fontsize=14)\n",
    "plt.title('Number of Conflicts from 1946-2018\\nfor Top 50 Locations', fontsize=16)\n",
    "\n",
    "plt.show()"
   ]
  },
  {
   "cell_type": "markdown",
   "metadata": {},
   "source": [
    "***\n",
    "# Land area by number of involved conflicts as a function of Country According to UCDP/PRIO"
   ]
  },
  {
   "cell_type": "markdown",
   "metadata": {},
   "source": [
    "***\n",
    "\n",
    "> Looking at number of conflicts compared to location does bring up another interesting aspect to be examined and explored. Is there a correlation between the size of a country and the number of conflicts they have been involved in? To explore this, I looked at the UCDP/PRIO dataset that was broken up by participants. From here the data was gropued by country, and within each grouping the number of unique conflicts was counted for each country. The countries where then looked up in the cshapes dataset which gives gegraphic and land information about countries. The corresponsing land area was then mapped to a color scale.\n",
    "\n",
    "***"
   ]
  },
  {
   "cell_type": "code",
   "execution_count": null,
   "metadata": {},
   "outputs": [],
   "source": [
    "top_full = pd.read_csv(\"landarea-conflict-top_full.csv\")\n",
    "bottom_full = pd.read_csv(\"landarea-conflict-bottom_full.csv\")\n",
    "sorted_counts_full = pd.read_csv(\"landarea-conflict-sorted_counts_full.csv\")"
   ]
  },
  {
   "cell_type": "code",
   "execution_count": null,
   "metadata": {},
   "outputs": [],
   "source": [
    "my_cmap = cm.get_cmap('hot')\n",
    "my_cmap2 = cm.get_cmap('hot')\n",
    "my_norm = Normalize(vmin=40, vmax=300)\n",
    "my_norm2 = Normalize(vmin=0, vmax=5)\n",
    "\n",
    "fig2 = plt.figure(figsize=(20,20))\n",
    "gs = gridspec.GridSpec(2, 2, width_ratios=[20, 1]) \n",
    "ax1 = plt.subplot(gs[0])\n",
    "ax1.bar(top_full['country_name'],top_full['area'], color=my_cmap(my_norm(top_full['number_of_conflicts'].to_list())))\n",
    "ax1.ticklabel_format(axis=\"y\", style=\"plain\")\n",
    "ax1.set_title(\"Top 20 countries with the most conflicts\", fontsize=20)\n",
    "ax1.set_xlabel('Country Name', fontsize=10, labelpad=-50, fontweight='bold')\n",
    "ax1.set_ylim([0,25000000])\n",
    "\n",
    "\n",
    "ax2 = plt.subplot(gs[1])\n",
    "cb1 = matplotlib.colorbar.ColorbarBase(ax2, cmap=my_cmap, norm=my_norm, orientation='vertical')\n",
    "cb1.set_label('Number of Conflicts', fontsize=10, fontweight='bold', labelpad=20)\n",
    "\n",
    "ax3 = plt.subplot(gs[2])\n",
    "ax3.bar(bottom_full['country_name'],bottom_full['area'], color=my_cmap2(my_norm2(bottom_full['number_of_conflicts'].to_list())))\n",
    "ax3.set_title(\"Top 20 countries with the least conflicts\", fontsize=20)\n",
    "ax3.ticklabel_format(axis=\"y\", style=\"plain\")\n",
    "ax3.set_xlabel('Country Name', fontsize=10, labelpad=-50, fontweight='bold')\n",
    "ax3.set_ylim([0,2500000])\n",
    "\n",
    "ax4 = plt.subplot(gs[3])\n",
    "cb2 = matplotlib.colorbar.ColorbarBase(ax4, cmap=my_cmap2, norm=my_norm2, orientation='vertical')\n",
    "cb2.set_label('Number of Conflicts', fontsize=10, fontweight='bold', labelpad=20)\n",
    "\n",
    "ax3.set_xlabel('Country Name', fontsize=10)\n",
    "for ax in (ax1,ax3):\n",
    "    ax.set_ylabel('Land Area ($km^2$)', fontsize=10, fontweight='bold', labelpad=20)\n",
    "    ax.xaxis.set_tick_params(labelsize=10)\n",
    "    ax.yaxis.set_tick_params(labelsize=10)\n",
    "    \n",
    "for ax_cmap in (ax2,ax4):\n",
    "    ax_cmap.xaxis.set_tick_params(labelsize=10)\n",
    "    ax_cmap.yaxis.set_tick_params(labelsize=10)\n",
    "\n",
    "for ax in fig2.axes:\n",
    "    matplotlib.pyplot.sca(ax)\n",
    "    plt.xticks(rotation=70)\n",
    "\n",
    "    \n",
    "plt.suptitle(\"Land area of countries with most and least conflicts\", fontsize=20, fontweight='bold')\n",
    "plt.subplots_adjust(hspace=200)\n",
    "plt.tight_layout(rect=[0, 0, 1, 0.95])"
   ]
  },
  {
   "cell_type": "markdown",
   "metadata": {},
   "source": [
    "***\n",
    "\n",
    "> The first important thing to note about these graphs is that the y-axis scale in the top20 chart is actually an order of magnitude greater than the bottom20 chart (max of 25,000,000 instead of 2,500,000). Setting the plots to the same scale ended up making the bottom 20 bars almost hidden due to the drastic difference in scale. As such, a limit was placed on the y axis in order to make sure the bars can for the most part show up. This does show that there is a correlation to land area and number of conflicts. The larger a country, the better the chance that they have been involved in a large amount of conflicts.\n",
    "\n",
    "***"
   ]
  },
  {
   "cell_type": "markdown",
   "metadata": {},
   "source": [
    "***\n",
    "\n",
    "> An important question to ask though is if this trend is continuous across the whole dataset. As such, we explore the entire series. We sort the data in the same manner as the previous graphs and see if the expected trend held throughout the whole dataset.\n",
    "\n",
    "***"
   ]
  },
  {
   "cell_type": "code",
   "execution_count": null,
   "metadata": {},
   "outputs": [],
   "source": [
    "sorted_counts_full = pd.read_csv(\"landarea-conflict-sorted_counts_full.csv\")"
   ]
  },
  {
   "cell_type": "code",
   "execution_count": null,
   "metadata": {},
   "outputs": [],
   "source": [
    "my_cmap3 = cm.get_cmap('hot')\n",
    "my_norm3 = Normalize(vmin=0, vmax=300)\n",
    "\n",
    "\n",
    "fig3 = plt.figure(figsize=(40,20))\n",
    "gs2 = gridspec.GridSpec(1, 2, width_ratios=[20, 1]) \n",
    "nax1 = plt.subplot(gs2[0])\n",
    "\n",
    "nax1.bar(sorted_counts_full['country_name'].astype(str),sorted_counts_full['area'], \n",
    "         color=my_cmap3(my_norm3(sorted_counts_full['number_of_conflicts'].to_list())))\n",
    "\n",
    "nax1.ticklabel_format(axis=\"y\", style=\"plain\")\n",
    "\n",
    "nax1.set_xlabel('Country Name', fontsize=30, fontweight='bold')\n",
    "#nax1.set_xticks([])\n",
    "\n",
    "nax2 = plt.subplot(gs2[1])\n",
    "ncb = matplotlib.colorbar.ColorbarBase(nax2, cmap=my_cmap3, norm=my_norm3, orientation='vertical')\n",
    "ncb.set_label('Number of Conflicts', fontsize=30, fontweight='bold', labelpad=20)\n",
    "\n",
    "nax1.set_ylabel('Land Area ($km^2$)', fontsize=30, fontweight='bold', labelpad=20)\n",
    "nax1.xaxis.set_tick_params(labelsize=20)\n",
    "nax1.yaxis.set_tick_params(labelsize=30)\n",
    "    \n",
    "nax2.xaxis.set_tick_params(labelsize=30)\n",
    "nax2.yaxis.set_tick_params(labelsize=30)\n",
    "\n",
    "    \n",
    "plt.suptitle(\"Land area of countries compared to number of conflicts\", fontsize=40, fontweight='bold')\n",
    "for ax in fig3.axes:\n",
    "    matplotlib.pyplot.sca(ax)\n",
    "    plt.xticks(rotation=90)\n",
    "    ax.margins(0.005, None)\n",
    "\n",
    "plt.tight_layout(rect=[0, 0.3, 1, 0.95])"
   ]
  },
  {
   "cell_type": "markdown",
   "metadata": {},
   "source": [
    "***\n",
    "> All 203 rows show an increasing trend which confirms that larger countries tend to be players in more conflicts than smaller countries. More specifically, any country over 5,000,000 $km^2$ is all but guaranteed to be in the top third in regard to number of conflicts they have been a party to. Below that, land area can't be used as an indicator for the likelihood a country will have been involved in a conflict.\n",
    "\n",
    "***"
   ]
  },
  {
   "cell_type": "markdown",
   "metadata": {},
   "source": [
    "# Polity IV Annual Time-Series, 1800-2018"
   ]
  },
  {
   "cell_type": "markdown",
   "metadata": {},
   "source": [
    "*** \n",
    "\n",
    "> The \"Polity IV Annual Time-Series, 1800-2018\" dataset is about the authority characteristics of political regimes around the world. The dataset consists of 17,562 rows and 36 columns. In our exploratory analysis, we aim to provide a synthetic visualization of the general tendency of each political regime included in the dataset to be autocratic or democratic based on the polity score the political regime has received. There are two columns in the dataset that contain useful information for our exploration:\n",
    "> 1. `country`: The names of the political regimes included in the dataset. (See Marshall, Gurr, and Jaggers, p.i).\n",
    "> 2. `polity2`: The synthesized polity score times-series of the political regimes that ranks the degree of institutionalized autocracy/democracy from -10 (most autocratic) to 10 (most democratic) (See Marshall, Gurr, and Jaggers, p.17).\n",
    "\n",
    "***"
   ]
  },
  {
   "cell_type": "code",
   "execution_count": null,
   "metadata": {},
   "outputs": [],
   "source": [
    "df3 = pd.read_csv(\"ryan-df3.csv\")\n",
    "df4 = pd.read_csv(\"ryan-df4.csv\")"
   ]
  },
  {
   "cell_type": "code",
   "execution_count": null,
   "metadata": {},
   "outputs": [],
   "source": [
    "# Plot the data.\n",
    "plt.figure(figsize=(120, 10))\n",
    "plt.scatter(df3['country'], df3['polity2'], c=df3['polity2'], cmap='RdYlGn', edgecolor='gray', s=100)\n",
    "plt.colorbar()\n",
    "plt.xticks(rotation='vertical', fontsize=20)\n",
    "plt.yticks([-10, -9, -8, -7, -6, -5, -4, -3, -2, -1, 0, 1, 2, 3, 4, 5, 6, 7, 8, 9, 10])\n",
    "plt.title('Polity Scores by Country', fontsize=30)\n",
    "plt.xlabel('Country', fontsize=25)\n",
    "plt.ylabel('Polity Score', fontsize=25)\n",
    "plt.show()"
   ]
  },
  {
   "cell_type": "markdown",
   "metadata": {},
   "source": [
    "***\n",
    "> Here we constructed a scatter plot based on the data we had selected and sorted. The aim of this visualization is to help our audience conceptualize the historical transformation of each of the political regimes in the dataset in terms of the different types of polities that each political regime has been. The x-axis represents the the names of the political regimes plotted in alphabetical order, and the y-axis lists all the possible polity scores. By mapping a diverging color scheme onto the scatter plot, we hoped to increase the ease of comprehending the historical transformation that we wanted to highlight in this plot. We also included a legend that shows the scale of colors used in the plot. View the visualization in a new tab for best results.\n",
    "\n",
    "***"
   ]
  },
  {
   "cell_type": "markdown",
   "metadata": {},
   "source": [
    "***\n",
    "\n",
    "> To further analyze the polity scores, in the next stage, we decided to divide the polity scores into groups based on the political regimes the polity scores designate and calculated the mean of the polity scores that fall within the same group. \n",
    "\n",
    "***"
   ]
  },
  {
   "cell_type": "code",
   "execution_count": null,
   "metadata": {},
   "outputs": [],
   "source": [
    "# Plot the data.\n",
    "plt.figure(figsize=(120, 10))\n",
    "plt.bar(df4['country'], df4['polity2'])\n",
    "plt.xticks(rotation='vertical', fontsize=20)\n",
    "plt.yticks([-10, -9, -8, -7, -6, -5, -4, -3, -2, -1, 0, 1, 2, 3, 4, 5, 6, 7, 8, 9, 10])\n",
    "plt.title('Polity Score Mean by Country', fontsize=30)\n",
    "plt.xlabel('Country', fontsize=25)\n",
    "plt.ylabel('Polity Score Mean', fontsize=25)\n",
    "plt.show()"
   ]
  },
  {
   "cell_type": "markdown",
   "metadata": {},
   "source": [
    "***\n",
    "\n",
    "> While the scatter plot in the first stage provides useful information about the historical transformation of each political regime in the dataset with regard to the different types of polities that each political regime has been, as data scientists, we were also eager to know how autocratic or democratic a given political regime is in general across time periods. To understand these patterns, we attempted to transform the scatter plot created in the first stage into a bar chart to achieve that goal. \n",
    "\n",
    "> As the polity scores that each political regime was assigned has been reduced to only one value, a scatter plot will not provide the best representation of our data. For better visual effects, we decided to use a bar chart instead to visualize our data. By rendering our visualization this way, we were able to easily differentiate between the political regimes that receive positive polity score means, which indicate a long-term inclination towards institutionalized democracy, and those that receive negative polity score means, which indicate a long-term inclination towards institutionalized autocracy. Again, view the visualization in a new tab for best results.\n",
    "\n",
    "***"
   ]
  },
  {
   "cell_type": "code",
   "execution_count": 2,
   "metadata": {},
   "outputs": [],
   "source": [
    "import traitlets\n",
    "import bqplot\n",
    "import ipywidgets\n",
    "from bqplot import pyplot as plt\n",
    "from datetime import datetime"
   ]
  },
  {
   "cell_type": "code",
   "execution_count": 5,
   "metadata": {},
   "outputs": [],
   "source": [
    "wdi = pd.read_csv(\"./x_wdi_timeseries_top25.csv\")\n",
    "country_name = pd.read_csv(\"./x_country_name.csv\")\n",
    "indicator_name = pd.read_csv(\"./x_indicator_name.csv\")\n",
    "cshape_gw = pd.read_csv(\"./x_country_shapes.csv\")[['iso_alpha3', 'gw_code']]\n",
    "participants = pd.read_csv(\"./x_participants_gw.csv\")"
   ]
  },
  {
   "cell_type": "code",
   "execution_count": 6,
   "metadata": {},
   "outputs": [],
   "source": [
    "wdi = pd.merge(wdi, country_name, on='country', how = 'left')\n",
    "wdi = pd.merge(wdi, indicator_name, on='indicator', how = 'left')\n",
    "cshape_gw.columns = ['country', 'gw_id']\n",
    "cshape_gw = cshape_gw.drop_duplicates(['country'] , keep = 'first')\n",
    "wdi = pd.merge(wdi, cshape_gw, on='country', how = 'left')\n",
    "wdi = pd.merge(wdi, participants, how = 'left', left_on=['gw_id', 'year'], right_on = ['gw_id', 'year'])"
   ]
  },
  {
   "cell_type": "code",
   "execution_count": 7,
   "metadata": {},
   "outputs": [],
   "source": [
    "wdi['conflict_id'].fillna(0, inplace=True)\n",
    "wdi['year_1'] = wdi['year'].astype(str)\n",
    "wdi['year_date'] = wdi['year_1'] + \"-06-30\"\n",
    "wdi['year_date'] = pd.to_datetime(wdi['year_date']) "
   ]
  },
  {
   "cell_type": "markdown",
   "metadata": {},
   "source": [
    "***\n",
    "# Conflict effects on World Development Indicators"
   ]
  },
  {
   "cell_type": "markdown",
   "metadata": {},
   "source": [
    "***\n",
    "\n",
    "> Narrative:\n",
    "\n",
    "> This visualization is to show how conflicts and wars can affect the development of a country. You can select the indicator and the country, then the indicator of that country will show up in a time series. If a conflict or war is going on that year, the data point that year will show up in a different color.\n",
    "\n",
    "***"
   ]
  },
  {
   "cell_type": "code",
   "execution_count": 8,
   "metadata": {},
   "outputs": [],
   "source": [
    "country = wdi['country_name'].unique()\n",
    "country_menu = ipywidgets.Dropdown(options = country, description = 'country code')\n",
    "indicator = wdi['indicator_name'].unique()\n",
    "indicator_menu = ipywidgets.Dropdown(options = indicator, description = 'indicator code')"
   ]
  },
  {
   "cell_type": "code",
   "execution_count": 11,
   "metadata": {},
   "outputs": [
    {
     "data": {
      "application/vnd.jupyter.widget-view+json": {
       "model_id": "6ff29f25027745c390d9e70fd16eccc2",
       "version_major": 2,
       "version_minor": 0
      },
      "text/plain": [
       "VBox(children=(Dropdown(description='country code', options=('Afghanistan', 'Angola', 'Albania', 'Andorra', 'U…"
      ]
     },
     "metadata": {},
     "output_type": "display_data"
    }
   ],
   "source": [
    "year_min = datetime.strptime('1959-01-01', '%Y-%m-%d')\n",
    "year_max = datetime.strptime('2019-12-31', '%Y-%m-%d')\n",
    "x_sc = bqplot.DateScale(min = year_min, max = year_max )\n",
    "y_sc = bqplot.LinearScale()\n",
    "x_ax = bqplot.Axis(label='year', scale=x_sc)\n",
    "y_ax = bqplot.Axis(label='indicator value', scale=y_sc, orientation='vertical')\n",
    "\n",
    "cur_indicator = 'Population, total'\n",
    "cur_country = 'Australia'\n",
    "\n",
    "stats = wdi.loc[(wdi.country_name == cur_country) & (wdi.indicator_name == cur_indicator)]\n",
    "lines = bqplot.Lines(x=stats['year_date'], y = stats['value'],\n",
    "                 scales={'x': x_sc, 'y': y_sc}, marker = 'square', colors = ['green'], opacities = [0.5], )\n",
    "\n",
    "stats_c = stats.loc[stats.conflict_id > 0]\n",
    "scatters = bqplot.Scatter(x=stats_c['year_date'], y = stats_c['value'],\n",
    "                 scales={'x': x_sc, 'y': y_sc}, marker = 'square', colors = ['orange'], opacities = [0.5], )\n",
    "\n",
    "\n",
    "def country_select(event):\n",
    "    cur_country = event['new']\n",
    "    stats = wdi.loc[(wdi.country_name == cur_country) & (wdi.indicator_name == cur_indicator)]\n",
    "    stats_c = stats.loc[stats.conflict_id > 0]\n",
    "    lines.x = stats['year_date']\n",
    "    lines.y = stats['value']\n",
    "    scatters.x = stats_c['year_date']\n",
    "    scatters.y = stats_c['value']\n",
    "\n",
    "def indicator_select(event):\n",
    "    cur_indicator = event['new']\n",
    "    stats = wdi.loc[(wdi.country_name == cur_country) & (wdi.indicator_name == cur_indicator)]\n",
    "    stats_c = stats.loc[stats.conflict_id > 0]\n",
    "    lines.x = stats['year_date']\n",
    "    lines.y = stats['value']\n",
    "    scatters.x = stats_c['year_date']\n",
    "    scatters.y = stats_c['value']\n",
    "    \n",
    "country_menu.observe(country_select, ['value'])\n",
    "indicator_menu.observe(indicator_select, ['value'])\n",
    "\n",
    "fig = bqplot.Figure(axes=[x_ax, y_ax],  marks=[lines, scatters]) \n",
    "display(ipywidgets.VBox([country_menu, indicator_menu, fig]))\n",
    "fig.layout.width = '1024px'\n"
   ]
  },
  {
   "cell_type": "markdown",
   "metadata": {},
   "source": [
    "# Citations"
   ]
  },
  {
   "cell_type": "markdown",
   "metadata": {},
   "source": [
    "- Högbladh Stina, 2019, “UCDP GED Codebook version 19.1”, Department of Peace and Conflict Research, Uppsala University\n",
    "\n",
    "- Marshall, Monty G, Ted Robert Gurr, and Keith Jaggers. \"Polity IV Project: Dataset Users' Manual.\" The Polity Project, Center for Systemic Peace, 2019. https://www.systemicpeace.org/polityproject.html.\n",
    "\n",
    "- \"Polity IV Annual Time-Series, 1800-2018.\" The Polity Project, Center for Systemic Peace, 2018. https://www.systemicpeace.org/polityproject.html.\n",
    "\n",
    "- Sarkees, Meredith Reid and Frank Wayman (2010). Resort to War: 1816 - 2007. Washington DC: CQ Press.\n",
    "\n",
    "- Sundberg, Ralph, and Erik Melander, 2013, “Introducing the UCDP Georeferenced Event Dataset”, Journal of Peace Research, vol.50, no.4, 523-532\n",
    "\n",
    "- Weidmann, Nils B., Doreen Kuse, and Kristian Skrede Gleditsch. 2010. The Geography of the International System: The CShapes Dataset. International Interactions 36 (1)."
   ]
  }
 ],
 "metadata": {
  "kernelspec": {
   "display_name": "Python 3",
   "language": "python",
   "name": "python3"
  },
  "language_info": {
   "codemirror_mode": {
    "name": "ipython",
    "version": 3
   },
   "file_extension": ".py",
   "mimetype": "text/x-python",
   "name": "python",
   "nbconvert_exporter": "python",
   "pygments_lexer": "ipython3",
   "version": "3.7.4"
  }
 },
 "nbformat": 4,
 "nbformat_minor": 2
}
