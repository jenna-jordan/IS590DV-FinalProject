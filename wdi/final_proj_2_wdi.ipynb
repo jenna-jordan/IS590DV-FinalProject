{
 "cells": [
  {
   "cell_type": "code",
   "execution_count": 1,
   "metadata": {},
   "outputs": [],
   "source": [
    "import numpy as np\n",
    "import pandas as pd\n",
    "import bqplot\n",
    "import traitlets\n",
    "import ipywidgets\n",
    "from bqplot import pyplot as plt"
   ]
  },
  {
   "cell_type": "code",
   "execution_count": 2,
   "metadata": {},
   "outputs": [],
   "source": [
    "wdi = pd.read_csv(\"./wdi_timeseries_top25.csv\")\n",
    "country_name = pd.read_csv(\"./country_name.csv\")\n",
    "indicator_name = pd.read_csv(\"./indicator_name.csv\")"
   ]
  },
  {
   "cell_type": "code",
   "execution_count": 3,
   "metadata": {},
   "outputs": [],
   "source": [
    "wdi = pd.merge(wdi, country_name, on='country', how = 'left')\n",
    "wdi = pd.merge(wdi, indicator_name, on='indicator', how = 'left')"
   ]
  },
  {
   "cell_type": "markdown",
   "metadata": {},
   "source": [
    "This visualization is to explore how conflicts and wars can affect the development of a country. You can select the indicator and the country, then the indicator of that country will show up in a time series. If a conflict or war is going on that year, the data point that year will show up in a different color."
   ]
  },
  {
   "cell_type": "code",
   "execution_count": 4,
   "metadata": {},
   "outputs": [],
   "source": [
    "country = wdi['country_name'].unique()\n",
    "country_menu = ipywidgets.Dropdown(options = country, description = 'country code')\n",
    "indicator = wdi['indicator_name'].unique()\n",
    "indicator_menu = ipywidgets.Dropdown(options = indicator, description = 'indicator code')"
   ]
  },
  {
   "cell_type": "code",
   "execution_count": 5,
   "metadata": {},
   "outputs": [
    {
     "data": {
      "application/vnd.jupyter.widget-view+json": {
       "model_id": "4ce45cce351d4ac189e1b954d3e6ed1d",
       "version_major": 2,
       "version_minor": 0
      },
      "text/plain": [
       "VBox(children=(Dropdown(description='country code', options=('Afghanistan', 'Angola', 'Albania', 'Andorra', 'U…"
      ]
     },
     "metadata": {},
     "output_type": "display_data"
    }
   ],
   "source": [
    "x_sc = bqplot.LinearScale()\n",
    "y_sc = bqplot.LinearScale()\n",
    "x_ax = bqplot.Axis(label='year', scale=x_sc)\n",
    "y_ax = bqplot.Axis(label='indicator value', scale=y_sc, orientation='vertical')\n",
    "\n",
    "cur_country = country[0]\n",
    "cur_indicator = indicator[0]\n",
    "\n",
    "stats = wdi.loc[(wdi.country_name == cur_country) & (wdi.indicator_name == cur_indicator)]\n",
    "lines = bqplot.Lines(x=stats['year'], y = stats['value'],\n",
    "                 scales={'x': x_sc, 'y': y_sc},)\n",
    "\n",
    "def country_select(event):\n",
    "    cur_country = event['new']\n",
    "    stats = wdi.loc[(wdi.country_name == cur_country) & (wdi.indicator_name == cur_indicator)]\n",
    "    lines.x = stats['year']\n",
    "    lines.y = stats['value']\n",
    "\n",
    "def indicator_select(event):\n",
    "    cur_indicator = event['new']\n",
    "    stats = wdi.loc[(wdi.country_name == cur_country) & (wdi.indicator_name == cur_indicator)]\n",
    "    lines.x = stats['year']\n",
    "    lines.y = stats['value']\n",
    "    \n",
    "country_menu.observe(country_select, ['value'])\n",
    "indicator_menu.observe(indicator_select, ['value'])\n",
    "\n",
    "# explanation = 'placeholder'\n",
    "\n",
    "fig = bqplot.Figure(axes=[x_ax, y_ax],  marks=[lines]) \n",
    "display(ipywidgets.VBox([country_menu, indicator_menu, fig]))\n"
   ]
  },
  {
   "cell_type": "code",
   "execution_count": 6,
   "metadata": {},
   "outputs": [],
   "source": [
    "# add conflicts\n",
    "# need title #change as country & indicator changes\n",
    "# explanation for indicators, country name #check\n",
    "# width"
   ]
  },
  {
   "cell_type": "code",
   "execution_count": null,
   "metadata": {},
   "outputs": [],
   "source": []
  }
 ],
 "metadata": {
  "kernelspec": {
   "display_name": "Python 3",
   "language": "python",
   "name": "python3"
  },
  "language_info": {
   "codemirror_mode": {
    "name": "ipython",
    "version": 3
   },
   "file_extension": ".py",
   "mimetype": "text/x-python",
   "name": "python",
   "nbconvert_exporter": "python",
   "pygments_lexer": "ipython3",
   "version": "3.7.3"
  }
 },
 "nbformat": 4,
 "nbformat_minor": 2
}
