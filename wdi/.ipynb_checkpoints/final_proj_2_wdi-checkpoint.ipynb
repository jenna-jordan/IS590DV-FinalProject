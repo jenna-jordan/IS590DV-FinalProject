{
 "cells": [
  {
   "cell_type": "code",
   "execution_count": 1,
   "metadata": {},
   "outputs": [],
   "source": [
    "import numpy as np\n",
    "import pandas as pd\n",
    "import bqplot\n",
    "import traitlets\n",
    "import ipywidgets\n",
    "from bqplot import pyplot as plt"
   ]
  },
  {
   "cell_type": "code",
   "execution_count": 2,
   "metadata": {},
   "outputs": [],
   "source": [
    "wdi = pd.read_csv(\"./wdi_timeseries_top25.csv\")\n",
    "country_name = pd.read_csv(\"./country_name.csv\")\n",
    "indicator_name = pd.read_csv(\"./indicator_name.csv\")"
   ]
  },
  {
   "cell_type": "code",
   "execution_count": 3,
   "metadata": {},
   "outputs": [],
   "source": [
    "wdi = pd.merge(wdi, country_name, on='country', how = 'left')\n",
    "wdi = pd.merge(wdi, indicator_name, on='indicator', how = 'left')"
   ]
  },
  {
   "cell_type": "markdown",
   "metadata": {},
   "source": [
    "This visualization is to explore how conflicts and wars can affect the development of a country. You can select the indicator and the country, then the indicator of that country will show up in a time series. If a conflict or war is going on that year, the data point that year will show up in a different color."
   ]
  },
  {
   "cell_type": "code",
   "execution_count": 6,
   "metadata": {},
   "outputs": [],
   "source": [
    "country = wdi['country_name'].unique()\n",
    "country_menu = ipywidgets.Dropdown(options = country, description = 'country code')\n",
    "indicator = wdi['indicator_name'].unique()\n",
    "indicator_menu = ipywidgets.Dropdown(options = indicator, description = 'indicator code')"
   ]
  },
  {
   "cell_type": "code",
   "execution_count": 7,
   "metadata": {},
   "outputs": [
    {
     "data": {
      "application/vnd.jupyter.widget-view+json": {
       "model_id": "eb1acc3572804f1f95cf5b1821be4c68",
       "version_major": 2,
       "version_minor": 0
      },
      "text/plain": [
       "VBox(children=(Dropdown(description='country code', options=('Afghanistan', 'Angola', 'Albania', 'Andorra', 'U…"
      ]
     },
     "metadata": {},
     "output_type": "display_data"
    }
   ],
   "source": [
    "x_sc = bqplot.LinearScale()\n",
    "y_sc = bqplot.LinearScale()\n",
    "x_ax = bqplot.Axis(label='year', scale=x_sc)\n",
    "y_ax = bqplot.Axis(label='indicator value', scale=y_sc, orientation='vertical')\n",
    "\n",
    "cur_country = country[0]\n",
    "cur_indicator = indicator[0]\n",
    "\n",
    "stats = wdi.loc[(wdi.country_name == cur_country) & (wdi.indicator_name == cur_indicator)]\n",
    "lines = bqplot.Lines(x=stats['year'], y = stats['value'],\n",
    "                 scales={'x': x_sc, 'y': y_sc},)\n",
    "\n",
    "def country_select(event):\n",
    "    cur_country = event['new']\n",
    "    stats = wdi.loc[(wdi.country_name == cur_country) & (wdi.indicator_name == cur_indicator)]\n",
    "    lines.x = stats['year']\n",
    "    lines.y = stats['value']\n",
    "\n",
    "def indicator_select(event):\n",
    "    cur_indicator = event['new']\n",
    "    stats = wdi.loc[(wdi.country_name == cur_country) & (wdi.indicator_name == cur_indicator)]\n",
    "    lines.x = stats['year']\n",
    "    lines.y = stats['value']\n",
    "    \n",
    "country_menu.observe(country_select, ['value'])\n",
    "indicator_menu.observe(indicator_select, ['value'])\n",
    "\n",
    "# explanation = 'placeholder'\n",
    "\n",
    "fig = bqplot.Figure(axes=[x_ax, y_ax],  marks=[lines]) \n",
    "display(ipywidgets.VBox([country_menu, indicator_menu, fig]))\n"
   ]
  },
  {
   "cell_type": "code",
   "execution_count": 6,
   "metadata": {},
   "outputs": [],
   "source": [
    "# add conflicts\n",
    "# need title #change as country & indicator changes\n",
    "# explanation for indicators, country name #check\n",
    "# width"
   ]
  },
  {
   "cell_type": "code",
   "execution_count": 56,
   "metadata": {},
   "outputs": [],
   "source": [
    "cshape_gw = pd.read_csv(\"../Data/CShapes/country_shapes.csv\")[['iso_alpha3', 'gw_code']]\n",
    "cshape_gw.columns = ['country', 'gw_id']\n",
    "cshape_gw = cshape_gw.drop_duplicates(['country'] , keep = 'first')\n",
    "wdi_1 = pd.merge(wdi, cshape_gw, on='country', how = 'left')"
   ]
  },
  {
   "cell_type": "code",
   "execution_count": 64,
   "metadata": {},
   "outputs": [],
   "source": [
    "participants = pd.read_csv(\"../Data/UCDP-PRIO_ArmedConflict/participants_gw.csv\")\n",
    "wdi_2 = pd.merge(wdi_1, participants, how = 'left', left_on=['gw_id', 'year'], right_on = ['gw_id', 'year'])"
   ]
  },
  {
   "cell_type": "code",
   "execution_count": 73,
   "metadata": {},
   "outputs": [
    {
     "data": {
      "text/html": [
       "<div>\n",
       "<style scoped>\n",
       "    .dataframe tbody tr th:only-of-type {\n",
       "        vertical-align: middle;\n",
       "    }\n",
       "\n",
       "    .dataframe tbody tr th {\n",
       "        vertical-align: top;\n",
       "    }\n",
       "\n",
       "    .dataframe thead th {\n",
       "        text-align: right;\n",
       "    }\n",
       "</style>\n",
       "<table border=\"1\" class=\"dataframe\">\n",
       "  <thead>\n",
       "    <tr style=\"text-align: right;\">\n",
       "      <th></th>\n",
       "      <th>Unnamed: 0</th>\n",
       "      <th>country</th>\n",
       "      <th>decimal</th>\n",
       "      <th>indicator</th>\n",
       "      <th>value</th>\n",
       "      <th>year</th>\n",
       "      <th>country_name</th>\n",
       "      <th>indicator_name</th>\n",
       "      <th>gw_id</th>\n",
       "      <th>obs_id</th>\n",
       "      <th>side</th>\n",
       "      <th>role</th>\n",
       "      <th>conflict_id</th>\n",
       "    </tr>\n",
       "  </thead>\n",
       "  <tbody>\n",
       "    <tr>\n",
       "      <th>0</th>\n",
       "      <td>806400</td>\n",
       "      <td>AFG</td>\n",
       "      <td>0</td>\n",
       "      <td>BX.KLT.DINV.CD.WD</td>\n",
       "      <td>NaN</td>\n",
       "      <td>2019</td>\n",
       "      <td>Afghanistan</td>\n",
       "      <td>Foreign direct investment, net inflows (BoP, c...</td>\n",
       "      <td>700</td>\n",
       "      <td>NaN</td>\n",
       "      <td>NaN</td>\n",
       "      <td>NaN</td>\n",
       "      <td>NaN</td>\n",
       "    </tr>\n",
       "    <tr>\n",
       "      <th>1</th>\n",
       "      <td>806401</td>\n",
       "      <td>AFG</td>\n",
       "      <td>0</td>\n",
       "      <td>BX.KLT.DINV.CD.WD</td>\n",
       "      <td>1.392000e+08</td>\n",
       "      <td>2018</td>\n",
       "      <td>Afghanistan</td>\n",
       "      <td>Foreign direct investment, net inflows (BoP, c...</td>\n",
       "      <td>700</td>\n",
       "      <td>333-2018</td>\n",
       "      <td>A</td>\n",
       "      <td>primary</td>\n",
       "      <td>333.0</td>\n",
       "    </tr>\n",
       "    <tr>\n",
       "      <th>2</th>\n",
       "      <td>806401</td>\n",
       "      <td>AFG</td>\n",
       "      <td>0</td>\n",
       "      <td>BX.KLT.DINV.CD.WD</td>\n",
       "      <td>1.392000e+08</td>\n",
       "      <td>2018</td>\n",
       "      <td>Afghanistan</td>\n",
       "      <td>Foreign direct investment, net inflows (BoP, c...</td>\n",
       "      <td>700</td>\n",
       "      <td>404-2018</td>\n",
       "      <td>A</td>\n",
       "      <td>secondary</td>\n",
       "      <td>404.0</td>\n",
       "    </tr>\n",
       "    <tr>\n",
       "      <th>3</th>\n",
       "      <td>806401</td>\n",
       "      <td>AFG</td>\n",
       "      <td>0</td>\n",
       "      <td>BX.KLT.DINV.CD.WD</td>\n",
       "      <td>1.392000e+08</td>\n",
       "      <td>2018</td>\n",
       "      <td>Afghanistan</td>\n",
       "      <td>Foreign direct investment, net inflows (BoP, c...</td>\n",
       "      <td>700</td>\n",
       "      <td>13637-2018</td>\n",
       "      <td>A</td>\n",
       "      <td>primary</td>\n",
       "      <td>13637.0</td>\n",
       "    </tr>\n",
       "    <tr>\n",
       "      <th>4</th>\n",
       "      <td>806402</td>\n",
       "      <td>AFG</td>\n",
       "      <td>0</td>\n",
       "      <td>BX.KLT.DINV.CD.WD</td>\n",
       "      <td>5.153390e+07</td>\n",
       "      <td>2017</td>\n",
       "      <td>Afghanistan</td>\n",
       "      <td>Foreign direct investment, net inflows (BoP, c...</td>\n",
       "      <td>700</td>\n",
       "      <td>333-2017</td>\n",
       "      <td>A</td>\n",
       "      <td>primary</td>\n",
       "      <td>333.0</td>\n",
       "    </tr>\n",
       "  </tbody>\n",
       "</table>\n",
       "</div>"
      ],
      "text/plain": [
       "   Unnamed: 0 country  decimal          indicator         value  year  \\\n",
       "0      806400     AFG        0  BX.KLT.DINV.CD.WD           NaN  2019   \n",
       "1      806401     AFG        0  BX.KLT.DINV.CD.WD  1.392000e+08  2018   \n",
       "2      806401     AFG        0  BX.KLT.DINV.CD.WD  1.392000e+08  2018   \n",
       "3      806401     AFG        0  BX.KLT.DINV.CD.WD  1.392000e+08  2018   \n",
       "4      806402     AFG        0  BX.KLT.DINV.CD.WD  5.153390e+07  2017   \n",
       "\n",
       "  country_name                                     indicator_name  gw_id  \\\n",
       "0  Afghanistan  Foreign direct investment, net inflows (BoP, c...    700   \n",
       "1  Afghanistan  Foreign direct investment, net inflows (BoP, c...    700   \n",
       "2  Afghanistan  Foreign direct investment, net inflows (BoP, c...    700   \n",
       "3  Afghanistan  Foreign direct investment, net inflows (BoP, c...    700   \n",
       "4  Afghanistan  Foreign direct investment, net inflows (BoP, c...    700   \n",
       "\n",
       "       obs_id side       role  conflict_id  \n",
       "0         NaN  NaN        NaN          NaN  \n",
       "1    333-2018    A    primary        333.0  \n",
       "2    404-2018    A  secondary        404.0  \n",
       "3  13637-2018    A    primary      13637.0  \n",
       "4    333-2017    A    primary        333.0  "
      ]
     },
     "execution_count": 73,
     "metadata": {},
     "output_type": "execute_result"
    }
   ],
   "source": [
    "wdi_2.head()"
   ]
  },
  {
   "cell_type": "code",
   "execution_count": null,
   "metadata": {},
   "outputs": [],
   "source": []
  }
 ],
 "metadata": {
  "kernelspec": {
   "display_name": "Python 3",
   "language": "python",
   "name": "python3"
  },
  "language_info": {
   "codemirror_mode": {
    "name": "ipython",
    "version": 3
   },
   "file_extension": ".py",
   "mimetype": "text/x-python",
   "name": "python",
   "nbconvert_exporter": "python",
   "pygments_lexer": "ipython3",
   "version": "3.7.3"
  }
 },
 "nbformat": 4,
 "nbformat_minor": 2
}
