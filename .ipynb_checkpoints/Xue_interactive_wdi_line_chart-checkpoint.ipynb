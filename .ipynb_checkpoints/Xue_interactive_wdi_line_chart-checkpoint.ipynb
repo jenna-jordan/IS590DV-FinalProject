{
 "cells": [
  {
   "cell_type": "code",
   "execution_count": 1,
   "metadata": {},
   "outputs": [],
   "source": [
    "import numpy as np\n",
    "import pandas as pd\n",
    "import bqplot\n",
    "import traitlets\n",
    "import ipywidgets\n",
    "from bqplot import pyplot as plt"
   ]
  },
  {
   "cell_type": "code",
   "execution_count": 4,
   "metadata": {},
   "outputs": [],
   "source": [
    "#This notebook is part of the visualization of the team project by \n",
    "#Jenna Jordan, Dennis Piehl, Gianni Pezzarossi, Xue Lu, and Hsin-Yuan Wang. \n",
    "#Our github repo link: https://github.com/jenna-jordan/IS590DV-FinalProject\n",
    "wdi = pd.read_csv(\"./wdi_data/wdi_timeseries_top25.csv\")\n",
    "country_name = pd.read_csv(\"./wdi_data/country_name.csv\")\n",
    "indicator_name = pd.read_csv(\"./wdi_data/indicator_name.csv\")"
   ]
  },
  {
   "cell_type": "code",
   "execution_count": 5,
   "metadata": {},
   "outputs": [],
   "source": [
    "wdi = pd.merge(wdi, country_name, on='country', how = 'left')\n",
    "wdi = pd.merge(wdi, indicator_name, on='indicator', how = 'left')"
   ]
  },
  {
   "cell_type": "code",
   "execution_count": 6,
   "metadata": {},
   "outputs": [],
   "source": [
    "country = wdi['country_name'].unique()\n",
    "country_menu = ipywidgets.Dropdown(options = country, description = 'country code')\n",
    "indicator = wdi['indicator_name'].unique()\n",
    "indicator_menu = ipywidgets.Dropdown(options = indicator, description = 'indicator code')"
   ]
  },
  {
   "cell_type": "code",
   "execution_count": 7,
   "metadata": {},
   "outputs": [],
   "source": [
    "##if there is a conflict that year in that contry, add conflict id\n",
    "cshape_gw = pd.read_csv(\"./Data/CShapes/country_shapes.csv\")[['iso_alpha3', 'gw_code']]\n",
    "cshape_gw.columns = ['country', 'gw_id']\n",
    "cshape_gw = cshape_gw.drop_duplicates(['country'] , keep = 'first')\n",
    "wdi_1 = pd.merge(wdi, cshape_gw, on='country', how = 'left')"
   ]
  },
  {
   "cell_type": "code",
   "execution_count": 8,
   "metadata": {},
   "outputs": [],
   "source": [
    "participants = pd.read_csv(\"./Data/UCDP-PRIO_ArmedConflict/participants_gw.csv\")\n",
    "wdi_2 = pd.merge(wdi_1, participants, how = 'left', left_on=['gw_id', 'year'], right_on = ['gw_id', 'year'])"
   ]
  },
  {
   "cell_type": "code",
   "execution_count": 9,
   "metadata": {},
   "outputs": [],
   "source": [
    "#add Color\n",
    "wdi_2['color'] = wdi_2.apply(lambda row: 'red' if row.conflict_id else 'blue', axis = 1) "
   ]
  },
  {
   "cell_type": "markdown",
   "metadata": {},
   "source": [
    "This visualization is to explore how conflicts and wars can affect the development of a country. You can select the indicator and the country, then the indicator of that country will show up in a time series. If a conflict or war is going on that year, the data point that year will show up in a different color."
   ]
  },
  {
   "cell_type": "code",
   "execution_count": 10,
   "metadata": {},
   "outputs": [
    {
     "data": {
      "application/vnd.jupyter.widget-view+json": {
       "model_id": "f50a4c816c9742b68856f5d4a36db9a8",
       "version_major": 2,
       "version_minor": 0
      },
      "text/plain": [
       "VBox(children=(Dropdown(description='country code', options=('Afghanistan', 'Angola', 'Albania', 'Andorra', 'U…"
      ]
     },
     "metadata": {},
     "output_type": "display_data"
    }
   ],
   "source": [
    "x_sc = bqplot.LinearScale()\n",
    "y_sc = bqplot.LinearScale()\n",
    "x_ax = bqplot.Axis(label='year', scale=x_sc)\n",
    "y_ax = bqplot.Axis(label='indicator value', scale=y_sc, orientation='vertical')\n",
    "\n",
    "cur_country = country[0]\n",
    "cur_indicator = indicator[0]\n",
    "\n",
    "stats = wdi_2.loc[(wdi_2.country_name == cur_country) & (wdi_2.indicator_name == cur_indicator)]\n",
    "lines = bqplot.Lines(x=stats['year'], y = stats['value'],\n",
    "                 scales={'x': x_sc, 'y': y_sc}, marker = 'square' , colors = ['green'], opacities = [0.5], )\n",
    "\n",
    "\n",
    "def country_select(event):\n",
    "    cur_country = event['new']\n",
    "    stats = wdi.loc[(wdi.country_name == cur_country) & (wdi.indicator_name == cur_indicator)]\n",
    "    lines.x = stats['year']\n",
    "    lines.y = stats['value']\n",
    "\n",
    "def indicator_select(event):\n",
    "    cur_indicator = event['new']\n",
    "    stats = wdi.loc[(wdi.country_name == cur_country) & (wdi.indicator_name == cur_indicator)]\n",
    "    lines.x = stats['year']\n",
    "    lines.y = stats['value']\n",
    "    \n",
    "country_menu.observe(country_select, ['value'])\n",
    "indicator_menu.observe(indicator_select, ['value'])\n",
    "\n",
    "\n",
    "fig = bqplot.Figure(axes=[x_ax, y_ax],  marks=[lines]) \n",
    "display(ipywidgets.VBox([country_menu, indicator_menu, fig]))\n"
   ]
  },
  {
   "cell_type": "code",
   "execution_count": null,
   "metadata": {},
   "outputs": [],
   "source": []
  }
 ],
 "metadata": {
  "kernelspec": {
   "display_name": "Python 3",
   "language": "python",
   "name": "python3"
  },
  "language_info": {
   "codemirror_mode": {
    "name": "ipython",
    "version": 3
   },
   "file_extension": ".py",
   "mimetype": "text/x-python",
   "name": "python",
   "nbconvert_exporter": "python",
   "pygments_lexer": "ipython3",
   "version": "3.7.3"
  }
 },
 "nbformat": 4,
 "nbformat_minor": 2
}
